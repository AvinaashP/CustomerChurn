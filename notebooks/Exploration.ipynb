{
 "cells": [
  {
   "cell_type": "code",
   "execution_count": 22,
   "id": "62846f7c",
   "metadata": {},
   "outputs": [],
   "source": [
    "import sys\n",
    "import pandas as pd\n",
    "import numpy as np\n",
    "from scipy import stats\n",
    "import plotly.express as px\n",
    "import seaborn as sns"
   ]
  },
  {
   "cell_type": "markdown",
   "id": "b5f46ca9",
   "metadata": {},
   "source": [
    "# Cleaning up Data"
   ]
  },
  {
   "cell_type": "code",
   "execution_count": 3,
   "id": "76000361",
   "metadata": {},
   "outputs": [],
   "source": [
    "data = pd.read_csv(\"../data/raw/raw.csv\")"
   ]
  },
  {
   "cell_type": "code",
   "execution_count": 14,
   "id": "294a1142",
   "metadata": {},
   "outputs": [
    {
     "data": {
      "text/plain": [
       "customerID          0\n",
       "gender              0\n",
       "SeniorCitizen       0\n",
       "Partner             0\n",
       "Dependents          0\n",
       "tenure              0\n",
       "PhoneService        0\n",
       "MultipleLines       0\n",
       "InternetService     0\n",
       "OnlineSecurity      0\n",
       "OnlineBackup        0\n",
       "DeviceProtection    0\n",
       "TechSupport         0\n",
       "StreamingTV         0\n",
       "StreamingMovies     0\n",
       "Contract            0\n",
       "PaperlessBilling    0\n",
       "PaymentMethod       0\n",
       "MonthlyCharges      0\n",
       "TotalCharges        0\n",
       "Churn               0\n",
       "dtype: int64"
      ]
     },
     "execution_count": 14,
     "metadata": {},
     "output_type": "execute_result"
    }
   ],
   "source": [
    "data.isna().sum()"
   ]
  },
  {
   "cell_type": "code",
   "execution_count": 6,
   "id": "ebb47f8f",
   "metadata": {},
   "outputs": [
    {
     "data": {
      "text/plain": [
       "customerID           object\n",
       "gender               object\n",
       "SeniorCitizen         int64\n",
       "Partner              object\n",
       "Dependents           object\n",
       "tenure                int64\n",
       "PhoneService         object\n",
       "MultipleLines        object\n",
       "InternetService      object\n",
       "OnlineSecurity       object\n",
       "OnlineBackup         object\n",
       "DeviceProtection     object\n",
       "TechSupport          object\n",
       "StreamingTV          object\n",
       "StreamingMovies      object\n",
       "Contract             object\n",
       "PaperlessBilling     object\n",
       "PaymentMethod        object\n",
       "MonthlyCharges      float64\n",
       "TotalCharges         object\n",
       "Churn                object\n",
       "dtype: object"
      ]
     },
     "execution_count": 6,
     "metadata": {},
     "output_type": "execute_result"
    }
   ],
   "source": [
    "data.dtypes"
   ]
  },
  {
   "cell_type": "markdown",
   "id": "da9c6d9b",
   "metadata": {},
   "source": [
    "Looking at the value types for the features in the dataset the one thing that stands out is that TotalCharges is an object instead of a int or a float"
   ]
  },
  {
   "cell_type": "code",
   "execution_count": 16,
   "id": "b60b9c75",
   "metadata": {},
   "outputs": [],
   "source": [
    "data[\"TotalCharges\"] = pd.to_numeric(data[\"TotalCharges\"],errors='coerce')"
   ]
  },
  {
   "cell_type": "code",
   "execution_count": 17,
   "id": "e3449781",
   "metadata": {},
   "outputs": [
    {
     "data": {
      "text/plain": [
       "customerID           0\n",
       "gender               0\n",
       "SeniorCitizen        0\n",
       "Partner              0\n",
       "Dependents           0\n",
       "tenure               0\n",
       "PhoneService         0\n",
       "MultipleLines        0\n",
       "InternetService      0\n",
       "OnlineSecurity       0\n",
       "OnlineBackup         0\n",
       "DeviceProtection     0\n",
       "TechSupport          0\n",
       "StreamingTV          0\n",
       "StreamingMovies      0\n",
       "Contract             0\n",
       "PaperlessBilling     0\n",
       "PaymentMethod        0\n",
       "MonthlyCharges       0\n",
       "TotalCharges        11\n",
       "Churn                0\n",
       "dtype: int64"
      ]
     },
     "execution_count": 17,
     "metadata": {},
     "output_type": "execute_result"
    }
   ],
   "source": [
    "data.isna().sum()"
   ]
  },
  {
   "cell_type": "markdown",
   "id": "5fe6e38a",
   "metadata": {},
   "source": [
    "After changing the type of \"TotalCharges\" to a float, we can see that there are 11 missing values"
   ]
  },
  {
   "cell_type": "code",
   "execution_count": 20,
   "id": "405cd20a",
   "metadata": {},
   "outputs": [],
   "source": [
    "data[\"TotalCharges\"] = data[\"TotalCharges\"].fillna(data[\"TotalCharges\"].mean())"
   ]
  },
  {
   "cell_type": "code",
   "execution_count": 21,
   "id": "e5bc4523",
   "metadata": {},
   "outputs": [
    {
     "data": {
      "text/plain": [
       "customerID          0\n",
       "gender              0\n",
       "SeniorCitizen       0\n",
       "Partner             0\n",
       "Dependents          0\n",
       "tenure              0\n",
       "PhoneService        0\n",
       "MultipleLines       0\n",
       "InternetService     0\n",
       "OnlineSecurity      0\n",
       "OnlineBackup        0\n",
       "DeviceProtection    0\n",
       "TechSupport         0\n",
       "StreamingTV         0\n",
       "StreamingMovies     0\n",
       "Contract            0\n",
       "PaperlessBilling    0\n",
       "PaymentMethod       0\n",
       "MonthlyCharges      0\n",
       "TotalCharges        0\n",
       "Churn               0\n",
       "dtype: int64"
      ]
     },
     "execution_count": 21,
     "metadata": {},
     "output_type": "execute_result"
    }
   ],
   "source": [
    "data.isna().sum()"
   ]
  },
  {
   "cell_type": "markdown",
   "id": "5a9d0870",
   "metadata": {},
   "source": [
    "After imputing the missing values with the mean value for TotalCharges, there are no more missing values in the dataset"
   ]
  },
  {
   "cell_type": "markdown",
   "id": "5bbc9356",
   "metadata": {},
   "source": [
    "# Exploring features and their relationships"
   ]
  },
  {
   "cell_type": "code",
   "execution_count": 24,
   "id": "929688d2",
   "metadata": {},
   "outputs": [
    {
     "data": {
      "text/plain": [
       "<AxesSubplot:>"
      ]
     },
     "execution_count": 24,
     "metadata": {},
     "output_type": "execute_result"
    },
    {
     "data": {
      "image/png": "[encoded data removed]",
      "text/plain": [
       "<Figure size 432x288 with 2 Axes>"
      ]
     },
     "metadata": {
      "needs_background": "light"
     },
     "output_type": "display_data"
    }
   ],
   "source": [
    "sns.heatmap(data.corr())"
   ]
  },
  {
   "cell_type": "markdown",
   "id": "74471cee",
   "metadata": {},
   "source": [
    "When looking at the correlations between the numeric features, realistically it seems that only TotalCharges and MonthlyCharges are correlated as it would only make sense since MonthlyCharges contribute the the size of TotalCharges"
   ]
  },
  {
   "cell_type": "markdown",
   "id": "255e9302",
   "metadata": {},
   "source": [
    "The objective is identify the variables affecting the rate of churn. When looking at the effects of churn, I will develop a general hypothesis. My hypothesis is that features such as the monthly charges, tenure, the type of service the subject is contracted are going to be important to the contributing to churn. So I will perform some EDA on those features. I will be performing the EDA on churned users and looking at the length of their tenure as if we compare active vs churned users, there could be active users who have just started their contract and could decide to drop their contract soon and therefore comparing the features against active vs churned users will give us a non-representative idea of the features."
   ]
  },
  {
   "cell_type": "code",
   "execution_count": null,
   "id": "6ceead77",
   "metadata": {},
   "outputs": [],
   "source": [
    "def is_normal(group):\n",
    "    #Checks if an array of values is normally distributed using Shapiro-Wilkes Test\n",
    "    #Null hypothesis is that data was sampled from normal distribution\n",
    "    tstat, pval = stats.shapiro(group)\n",
    "    if len(group) > 5000: #Test statistics more accurate for larger set\n",
    "        if tstat < 0.05: \n",
    "            return False\n",
    "    if pval < 0.05: \n",
    "        return False\n",
    "    return True\n",
    "\n",
    "def eq_var(group1, group2):\n",
    "    #Check that property of homoscedacity (equal Variance) using Levene Test\n",
    "    _, pval = stats.levene(group_1, group_2) \n",
    "    if pval < 0.05: return False\n",
    "    return True\n",
    "\n",
    "def stat_test(group1, group2):\n",
    "    \"\"\"Between 2 groups, if the conditions of normality + homoscendacity hold, perform \n",
    "    T-Test, otherwise perform the Mann Whiteny U Test.\"\"\"\n",
    "    \n",
    "    if is_normal(group1) and is_normal(group2):\n",
    "        if eq_var(group1, group2):\n",
    "            print(\"Performing T-Test ...\")\n",
    "            return stats.ttest_ind(group1,group2)\n",
    "        print(\"Performing T-Test with unequal variance\")\n",
    "        return stats.ttest_ind(group1,group2, equal_var = False)\n",
    "    print(\"Performing U-Test ...\")\n",
    "    return mannwhitneyu(group1, group2)"
   ]
  },
  {
   "cell_type": "code",
   "execution_count": 33,
   "id": "1f363226",
   "metadata": {},
   "outputs": [],
   "source": [
    "churned_users = data[data[\"Churn\"] == \"No\"]\n",
    "active_users = data[data.Churn == \"Yes\"]"
   ]
  },
  {
   "cell_type": "code",
   "execution_count": 1,
   "id": "4dcc4e74",
   "metadata": {},
   "outputs": [
    {
     "ename": "NameError",
     "evalue": "name 'px' is not defined",
     "output_type": "error",
     "traceback": [
      "\u001b[0;31m---------------------------------------------------------------------------\u001b[0m",
      "\u001b[0;31mNameError\u001b[0m                                 Traceback (most recent call last)",
      "\u001b[0;32m<ipython-input-1-e0cf6eb76777>\u001b[0m in \u001b[0;36m<module>\u001b[0;34m\u001b[0m\n\u001b[0;32m----> 1\u001b[0;31m \u001b[0mpx\u001b[0m\u001b[0;34m.\u001b[0m\u001b[0mbox\u001b[0m\u001b[0;34m(\u001b[0m\u001b[0mchurned_users\u001b[0m\u001b[0;34m,\u001b[0m \u001b[0mx\u001b[0m \u001b[0;34m=\u001b[0m \u001b[0;34m\"MonthlyCharges\"\u001b[0m\u001b[0;34m,\u001b[0m \u001b[0my\u001b[0m \u001b[0;34m=\u001b[0m \u001b[0;34m\"tenure\"\u001b[0m\u001b[0;34m)\u001b[0m\u001b[0;34m\u001b[0m\u001b[0;34m\u001b[0m\u001b[0m\n\u001b[0m",
      "\u001b[0;31mNameError\u001b[0m: name 'px' is not defined"
     ]
    }
   ],
   "source": [
    "px.box(churned_users, x = \"MonthlyCharges\", y = \"tenure\")"
   ]
  },
  {
   "cell_type": "code",
   "execution_count": null,
   "id": "70364022",
   "metadata": {},
   "outputs": [],
   "source": []
  }
 ],
 "metadata": {
  "kernelspec": {
   "display_name": "myenv",
   "language": "python",
   "name": "myenv"
  },
  "language_info": {
   "codemirror_mode": {
    "name": "ipython",
    "version": 3
   },
   "file_extension": ".py",
   "mimetype": "text/x-python",
   "name": "python",
   "nbconvert_exporter": "python",
   "pygments_lexer": "ipython3",
   "version": "3.6.13"
  }
 },
 "nbformat": 4,
 "nbformat_minor": 5
}
